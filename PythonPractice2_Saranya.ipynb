{
  "nbformat": 4,
  "nbformat_minor": 0,
  "metadata": {
    "colab": {
      "provenance": []
    },
    "kernelspec": {
      "name": "python3",
      "display_name": "Python 3"
    },
    "language_info": {
      "name": "python"
    }
  },
  "cells": [
    {
      "cell_type": "code",
      "execution_count": 1,
      "metadata": {
        "colab": {
          "base_uri": "https://localhost:8080/"
        },
        "id": "wdAc9cZv1_sd",
        "outputId": "1afc6c74-3336-4714-cd7b-eeef1c63bd5c"
      },
      "outputs": [
        {
          "output_type": "stream",
          "name": "stdout",
          "text": [
            "Enter a word:samuelsamueljohn\n",
            "m = 2\n",
            "h = 1\n",
            "s = 2\n",
            "j = 1\n",
            "a = 2\n",
            "e = 2\n",
            "n = 1\n",
            "o = 1\n",
            "l = 2\n",
            "u = 2\n"
          ]
        }
      ],
      "source": [
        "# Practice 1\n",
        "word = input(\"Enter a word:\")\n",
        "wordlist = list(word)\n",
        "wordset = set(word)\n",
        "for letter in wordset:\n",
        "   print(f\"{letter} = {wordlist.count(letter)}\")"
      ]
    },
    {
      "cell_type": "code",
      "source": [
        "# Practice 2\n",
        "print(\"Enter three Numbers:\")\n",
        "num1 = int(input(\"Number 1:\"))\n",
        "num2 = int(input(\"Number 2:\"))\n",
        "num3 = int(input(\"Number 3:\"))\n",
        "if num1 > num2 and num1 > num3:\n",
        "  print(f\"Greatest is: {num1}\")\n",
        "elif num2 > num1 and num2 > num3:\n",
        "  print(f\"Greatest is: {num2}\")\n",
        "else:\n",
        "  print(f\"Greatest is: {num3}\")\n"
      ],
      "metadata": {
        "colab": {
          "base_uri": "https://localhost:8080/"
        },
        "id": "0qrhd3743Pa5",
        "outputId": "025d7af9-74f7-494a-f48a-884deb32ebb6"
      },
      "execution_count": 2,
      "outputs": [
        {
          "output_type": "stream",
          "name": "stdout",
          "text": [
            "Enter three Numbers:\n",
            "Number 1:54\n",
            "Number 2:45\n",
            "Number 3:2\n",
            "Greatest is: 54\n"
          ]
        }
      ]
    },
    {
      "cell_type": "code",
      "source": [
        "# Practice 3\n",
        "base = int(input(\"Enter the base:\"))\n",
        "expo = int(input(\"Enter the exponent:\"))\n",
        "ans = base ** expo\n",
        "print(f\"output= {ans}\")"
      ],
      "metadata": {
        "colab": {
          "base_uri": "https://localhost:8080/"
        },
        "id": "aKkUi6xC3ohA",
        "outputId": "d12ba976-1bf9-4ac4-acc3-69e3b54771e2"
      },
      "execution_count": 3,
      "outputs": [
        {
          "output_type": "stream",
          "name": "stdout",
          "text": [
            "Enter the base:2\n",
            "Enter the exponent:3\n",
            "output= 8\n"
          ]
        }
      ]
    },
    {
      "cell_type": "code",
      "source": [
        "# Practice 4\n",
        "num = int(input(\"Enter the number:\"))\n",
        "\n",
        "def sumOfCubes(num):\n",
        "  sum = 0\n",
        "  for i in range(1, num):\n",
        "    sum = sum + i ** 3\n",
        "  print(f\"Sum of cubes :{sum} \")\n",
        "\n",
        "sumOfCubes(num)"
      ],
      "metadata": {
        "colab": {
          "base_uri": "https://localhost:8080/"
        },
        "id": "gkPATyml3z9_",
        "outputId": "3030c4bb-6d57-49d1-a71c-266e0df2ac78"
      },
      "execution_count": 4,
      "outputs": [
        {
          "output_type": "stream",
          "name": "stdout",
          "text": [
            "Enter the number:4\n",
            "Sum of cubes :36 \n"
          ]
        }
      ]
    },
    {
      "cell_type": "code",
      "source": [
        "# Practice 5\n",
        "def fizzBuzz():\n",
        "    for i in range(1,11):\n",
        "      if i % 2 == 0 and i  % 5 == 0:\n",
        "        print(\"FizzBuzz\")\n",
        "      elif i % 2 == 0:\n",
        "        print(\"Fizz\")\n",
        "      elif i % 5 == 0:\n",
        "        print(\"Buzz\")\n",
        "      else:\n",
        "        print(f\"{i}\")\n",
        "\n",
        "\n",
        "fizzBuzz()"
      ],
      "metadata": {
        "colab": {
          "base_uri": "https://localhost:8080/"
        },
        "id": "T1UI0zMb4AeF",
        "outputId": "70a3ee03-b3e6-4e4b-ddcf-54d2668f5b24"
      },
      "execution_count": 5,
      "outputs": [
        {
          "output_type": "stream",
          "name": "stdout",
          "text": [
            "1\n",
            "Fizz\n",
            "3\n",
            "Fizz\n",
            "Buzz\n",
            "Fizz\n",
            "7\n",
            "Fizz\n",
            "9\n",
            "FizzBuzz\n"
          ]
        }
      ]
    },
    {
      "cell_type": "code",
      "source": [
        "# Practice 6\n",
        "numlist = [2, 3, 4, 2, 5, 2, 3]\n",
        "numset = set(numlist)\n",
        "maxitem = numlist[0]\n",
        "for i in numset:\n",
        "  if numlist.count(i) > numlist.count(maxitem):\n",
        "    maxitem = i\n",
        "print(f\"Most repeated item = {maxitem}\")\n"
      ],
      "metadata": {
        "colab": {
          "base_uri": "https://localhost:8080/"
        },
        "id": "AuA_rRce4KG1",
        "outputId": "825ada41-0110-4bb8-fc69-85cc83c972c6"
      },
      "execution_count": 13,
      "outputs": [
        {
          "output_type": "stream",
          "name": "stdout",
          "text": [
            "Most repeated item = 2\n"
          ]
        }
      ]
    },
    {
      "cell_type": "code",
      "source": [
        "# Practice 7\n",
        "count = int(input(\"Enter the count of list:\"))\n",
        "mylist = []\n",
        "for i in range(0,count):\n",
        "  x = int(input(f\"Enter {i+1}th element: \"))\n",
        "  mylist.append(x)\n",
        "\n",
        "sum = 0\n",
        "for i in range(0,count):\n",
        "  sum = sum + mylist[i] ** 2\n",
        "print(f\"My List:{mylist}\")\n",
        "print(f\"Sum of squares of list: {sum}\")"
      ],
      "metadata": {
        "colab": {
          "base_uri": "https://localhost:8080/"
        },
        "id": "RTh8ip2R4Ovx",
        "outputId": "4290cedb-2d8f-4ec1-e0b9-453becb0db23"
      },
      "execution_count": 6,
      "outputs": [
        {
          "output_type": "stream",
          "name": "stdout",
          "text": [
            "Enter the count of list:4\n",
            "Enter 1th element: 2\n",
            "Enter 2th element: 1\n",
            "Enter 3th element: 3\n",
            "Enter 4th element: 1\n",
            "My List:[2, 1, 3, 1]\n",
            "Sum of squares of list: 15\n"
          ]
        }
      ]
    },
    {
      "cell_type": "code",
      "source": [
        "# Practice 8\n",
        "for l in range(1,16):\n",
        "  if l % 2 == 0:\n",
        "    print(f\"{l} Even\")\n",
        "  else:\n",
        "    print(f\"{l} Odd\")"
      ],
      "metadata": {
        "colab": {
          "base_uri": "https://localhost:8080/"
        },
        "id": "RsCPWyGb4rZB",
        "outputId": "b524760a-27f4-482d-e91b-021bc60dedca"
      },
      "execution_count": 7,
      "outputs": [
        {
          "output_type": "stream",
          "name": "stdout",
          "text": [
            "1 Odd\n",
            "2 Even\n",
            "3 Odd\n",
            "4 Even\n",
            "5 Odd\n",
            "6 Even\n",
            "7 Odd\n",
            "8 Even\n",
            "9 Odd\n",
            "10 Even\n",
            "11 Odd\n",
            "12 Even\n",
            "13 Odd\n",
            "14 Even\n",
            "15 Odd\n"
          ]
        }
      ]
    },
    {
      "cell_type": "code",
      "source": [
        "# Practice 9\n",
        "tempF = int(input(\"temperature in Farenheit:\"))\n",
        "tempC = ((tempF - 32) / 9) * 5\n",
        "print(f\"Temperature in Celcius = {tempC}\")"
      ],
      "metadata": {
        "colab": {
          "base_uri": "https://localhost:8080/"
        },
        "id": "u-ZfdmSy5GIe",
        "outputId": "49f5da91-2d5d-4331-8d90-c908c115d3aa"
      },
      "execution_count": 8,
      "outputs": [
        {
          "output_type": "stream",
          "name": "stdout",
          "text": [
            "temperature in Farenheit:41\n",
            "Temperature in Celcius = 5.0\n"
          ]
        }
      ]
    },
    {
      "cell_type": "code",
      "source": [
        "# Practice 10\n",
        "num = int(input(\"Enter the number:\"))\n",
        "def factorial(num):\n",
        "  if num == 1:\n",
        "    return 1\n",
        "  else:\n",
        "    return num * factorial(num - 1)\n",
        "fact = factorial(num)\n",
        "print(f\"Factorial of {num} is {fact}\")"
      ],
      "metadata": {
        "colab": {
          "base_uri": "https://localhost:8080/"
        },
        "id": "QFusGt2k5Ts4",
        "outputId": "39cce938-512b-4717-fcff-b61b2d482d17"
      },
      "execution_count": 9,
      "outputs": [
        {
          "output_type": "stream",
          "name": "stdout",
          "text": [
            "Enter the number:3\n",
            "Factorial of 3 is 6\n"
          ]
        }
      ]
    },
    {
      "cell_type": "code",
      "source": [],
      "metadata": {
        "id": "RB3qfLGb5eg-"
      },
      "execution_count": null,
      "outputs": []
    }
  ]
}