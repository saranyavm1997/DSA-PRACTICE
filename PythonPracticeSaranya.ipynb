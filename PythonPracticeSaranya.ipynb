{
  "nbformat": 4,
  "nbformat_minor": 0,
  "metadata": {
    "colab": {
      "provenance": []
    },
    "kernelspec": {
      "name": "python3",
      "display_name": "Python 3"
    },
    "language_info": {
      "name": "python"
    }
  },
  "cells": [
    {
      "cell_type": "code",
      "source": [
        "# Practice 1\n",
        "import math\n",
        "radius = int(input(\"Enter the Radius:\"))\n",
        "area = math.pi * radius ** 2\n",
        "print(\"Area of Circle is: \", area)"
      ],
      "metadata": {
        "colab": {
          "base_uri": "https://localhost:8080/"
        },
        "id": "pQa1kSr4wwFV",
        "outputId": "f2220809-4056-41ea-9a0f-3ba81dd1e763"
      },
      "execution_count": 1,
      "outputs": [
        {
          "output_type": "stream",
          "name": "stdout",
          "text": [
            "Enter the Radius:3\n",
            "Area of Circle is:  28.274333882308138\n"
          ]
        }
      ]
    },
    {
      "cell_type": "code",
      "execution_count": null,
      "metadata": {
        "colab": {
          "base_uri": "https://localhost:8080/"
        },
        "id": "Gdb_wMHJujKg",
        "outputId": "0dccf675-ee5d-498b-e7c9-974abdd7a2af"
      },
      "outputs": [
        {
          "output_type": "stream",
          "name": "stdout",
          "text": [
            "Enter student name: saras\n",
            "Enter roll number: 100\n",
            "Enter marks: 100.52\n",
            "\n",
            "Student Details:\n",
            "Name: saras\n",
            "Roll Number: 100\n",
            "Marks: 100.52\n"
          ]
        }
      ],
      "source": [
        "# Practice 2\n",
        "name = input(\"Enter student name: \")\n",
        "roll_number = input(\"Enter roll number: \")\n",
        "marks = float(input(\"Enter marks: \"))\n",
        "\n",
        "\n",
        "print(\"\\nStudent Details:\")\n",
        "print(f\"Name: {name}\\nRoll Number: {roll_number}\\nMarks: {marks:.2f}\")"
      ]
    },
    {
      "cell_type": "code",
      "source": [
        "# Practice 3\n",
        "count = int(input(\"Enter the count of list:\"))\n",
        "mylist = []\n",
        "for i in range(0,count):\n",
        "  x = int(input(f\"Enter {i+1}th element: \"))\n",
        "  mylist.append(x)\n",
        "largest = mylist[0]\n",
        "for i in range(1,count):\n",
        "  if mylist[i] > largest:\n",
        "    largest = mylist[i]\n",
        "print(f\"List = {mylist}\")\n",
        "print(f\"Largest element is : {largest}\")"
      ],
      "metadata": {
        "colab": {
          "base_uri": "https://localhost:8080/"
        },
        "id": "SvtQMT-gvhvA",
        "outputId": "7a6b0448-bb7d-4bc9-9e21-1f4fac2b8577"
      },
      "execution_count": 3,
      "outputs": [
        {
          "output_type": "stream",
          "name": "stdout",
          "text": [
            "Enter the count of list:3\n",
            "Enter 1th element: 1\n",
            "Enter 2th element: 2\n",
            "Enter 3th element: 3\n",
            "List = [1, 2, 3]\n",
            "Largest element is : 3\n"
          ]
        }
      ]
    },
    {
      "cell_type": "code",
      "source": [
        "# Practice 4\n",
        "for i in range(0,10):\n",
        "  currentNum = i + 1\n",
        "  sum = i + currentNum\n",
        "  print(f\"Current Number:{currentNum} previous Number:{i} Sum:{sum}\")"
      ],
      "metadata": {
        "colab": {
          "base_uri": "https://localhost:8080/"
        },
        "id": "6g1Nc9wdxrTx",
        "outputId": "4e92f038-c241-4659-cb92-9d33ee4d6a99"
      },
      "execution_count": null,
      "outputs": [
        {
          "output_type": "stream",
          "name": "stdout",
          "text": [
            "Current Number:1 previous Number:0 Sum:1\n",
            "Current Number:2 previous Number:1 Sum:3\n",
            "Current Number:3 previous Number:2 Sum:5\n",
            "Current Number:4 previous Number:3 Sum:7\n",
            "Current Number:5 previous Number:4 Sum:9\n",
            "Current Number:6 previous Number:5 Sum:11\n",
            "Current Number:7 previous Number:6 Sum:13\n",
            "Current Number:8 previous Number:7 Sum:15\n",
            "Current Number:9 previous Number:8 Sum:17\n",
            "Current Number:10 previous Number:9 Sum:19\n"
          ]
        }
      ]
    },
    {
      "cell_type": "code",
      "source": [
        "# Practice 5\n",
        "count = int(input(\"Enter the count of list:\"))\n",
        "mylist = []\n",
        "for i in range(0,count):\n",
        "  x = int(input(f\"Enter {i+1}th element: \"))\n",
        "  mylist.append(x)\n",
        "divisibleByFive = []\n",
        "for i in range(0,count):\n",
        "  if mylist[i] % 5 == 0:\n",
        "    divisibleByFive.append(mylist[i])\n",
        "\n",
        "print(f\"Numbers Divisible By 5 are:{divisibleByFive}\")"
      ],
      "metadata": {
        "colab": {
          "base_uri": "https://localhost:8080/"
        },
        "id": "LhG5CImnzzbQ",
        "outputId": "df4c8a51-ea97-4c0e-818a-9701a4885ce3"
      },
      "execution_count": null,
      "outputs": [
        {
          "output_type": "stream",
          "name": "stdout",
          "text": [
            "Enter the count of list:5\n",
            "Enter 1th element: 10\n",
            "Enter 2th element: 3\n",
            "Enter 3th element: 25\n",
            "Enter 4th element: 45\n",
            "Enter 5th element: 6\n",
            "Numbers Divisible By 5 are:[10, 25, 45]\n"
          ]
        }
      ]
    },
    {
      "cell_type": "code",
      "source": [
        "# Practice 6\n",
        "def primeornot(num):\n",
        "  flag = False\n",
        "  for i in range(2, num):\n",
        "      if num % i == 0:\n",
        "        flag = True\n",
        "        break\n",
        "  if flag == True:\n",
        "    print(f\"{num} is not a prime number\")\n",
        "  else:\n",
        "    print(f\"{num} is a prime number\")\n",
        "\n",
        "num = int(input(\"Enter Number:\"))\n",
        "if num == 1:\n",
        "  print(f\"{num} is not a prime number\")\n",
        "else:\n",
        "  primeornot(num)\n",
        "\n",
        "\n"
      ],
      "metadata": {
        "colab": {
          "base_uri": "https://localhost:8080/"
        },
        "id": "_FV7v-m-7c6_",
        "outputId": "b467b949-facd-4ee7-e397-f9a81a421e20"
      },
      "execution_count": 6,
      "outputs": [
        {
          "output_type": "stream",
          "name": "stdout",
          "text": [
            "Enter Number:8\n",
            "8 is not a prime number\n"
          ]
        }
      ]
    },
    {
      "cell_type": "code",
      "source": [
        "# Practice 7\n",
        "count = int(input(\"Enter the count of list:\"))\n",
        "mylist = []\n",
        "for i in range(0,count):\n",
        "  x = int(input(f\"Enter {i+1}th element: \"))\n",
        "  mylist.append(x)\n",
        "reverseList = []\n",
        "for i in range(-1,-count - 1 , -1):\n",
        "  reverseList.append(mylist[i])\n",
        "\n",
        "print(f\"Reverse List is:{reverseList}\")\n"
      ],
      "metadata": {
        "colab": {
          "base_uri": "https://localhost:8080/"
        },
        "id": "8jZsvdOp1Fhx",
        "outputId": "6240e25e-b876-4e67-efbd-01ef4dbed270"
      },
      "execution_count": null,
      "outputs": [
        {
          "output_type": "stream",
          "name": "stdout",
          "text": [
            "Enter the count of list:4\n",
            "Enter 1th element: 12\n",
            "Enter 2th element: 23\n",
            "Enter 3th element: 4\n",
            "Enter 4th element: 5\n",
            "Reverse List is:[5, 4, 23, 12]\n"
          ]
        }
      ]
    },
    {
      "cell_type": "code",
      "source": [
        "# Practice 8\n",
        "for i in range(1,5):\n",
        "  for j in range(0, i ):\n",
        "    print(\"*\", end =\"\")\n",
        "  print(\"\\n\")"
      ],
      "metadata": {
        "colab": {
          "base_uri": "https://localhost:8080/"
        },
        "id": "5X1S3f9V2LdH",
        "outputId": "dd715383-4dc9-4ae7-f275-7e2f2a79bc50"
      },
      "execution_count": null,
      "outputs": [
        {
          "output_type": "stream",
          "name": "stdout",
          "text": [
            "*\n",
            "\n",
            "**\n",
            "\n",
            "***\n",
            "\n",
            "****\n",
            "\n"
          ]
        }
      ]
    },
    {
      "cell_type": "code",
      "source": [
        "# Practice 9\n",
        "print(\"Enter three Numbers:\")\n",
        "num1 = int(input(\"Number 1:\"))\n",
        "num2 = int(input(\"Number 2:\"))\n",
        "num3 = int(input(\"Number 3:\"))\n",
        "if num1 > num2 and num1 > num3:\n",
        "  print(f\"Greatest is: {num1}\")\n",
        "elif num2 > num1 and num2 > num3:\n",
        "  print(f\"Greatest is: {num2}\")\n",
        "else:\n",
        "  print(f\"Greatest is: {num3}\")\n"
      ],
      "metadata": {
        "colab": {
          "base_uri": "https://localhost:8080/"
        },
        "id": "JJ-DXvBb27AI",
        "outputId": "65b20b99-1d7a-4b0a-f8c1-e35772ab1cdd"
      },
      "execution_count": 2,
      "outputs": [
        {
          "output_type": "stream",
          "name": "stdout",
          "text": [
            "Enter three Numbers:\n",
            "Number 1:34\n",
            "Number 2:12\n",
            "Number 3:7\n",
            "Greatest is: 34\n"
          ]
        }
      ]
    },
    {
      "cell_type": "code",
      "source": [
        "# Practice 10\n",
        "for i in range(5):\n",
        "  for j in range(i ):\n",
        "    print(\"*\", end =\"\")\n",
        "  print(\"\\n\")\n",
        "for i in range(5, 0, -1):\n",
        "  for j in range(i):\n",
        "    print(\"*\", end =\"\")\n",
        "  print(\"\\n\")"
      ],
      "metadata": {
        "colab": {
          "base_uri": "https://localhost:8080/"
        },
        "id": "t8ALxle95C2A",
        "outputId": "64095ea3-cf22-4a70-d2c4-8b88c983c61a"
      },
      "execution_count": null,
      "outputs": [
        {
          "output_type": "stream",
          "name": "stdout",
          "text": [
            "\n",
            "\n",
            "*\n",
            "\n",
            "**\n",
            "\n",
            "***\n",
            "\n",
            "****\n",
            "\n",
            "*****\n",
            "\n",
            "****\n",
            "\n",
            "***\n",
            "\n",
            "**\n",
            "\n",
            "*\n",
            "\n"
          ]
        }
      ]
    }
  ]
}